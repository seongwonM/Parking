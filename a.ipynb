{
 "cells": [
  {
   "cell_type": "markdown",
   "metadata": {},
   "source": [
    "### MCLP"
   ]
  },
  {
   "cell_type": "code",
   "execution_count": null,
   "metadata": {},
   "outputs": [],
   "source": [
    "import geopandas as gpd\n",
    "import pandas as pd\n",
    "from shapely.geometry import Point\n",
    "from shapely import wkt\n",
    "import numpy as np"
   ]
  },
  {
   "cell_type": "code",
   "execution_count": null,
   "metadata": {},
   "outputs": [],
   "source": [
    "df=pd.read_csv('격자.csv')\n",
    "df=gpd.GeoDataFrame(df)\n",
    "df.set_crs(epsg=3857)"
   ]
  },
  {
   "cell_type": "code",
   "execution_count": null,
   "metadata": {},
   "outputs": [],
   "source": [
    "from sklearn.preprocessing import MinMaxScaler\n",
    "\n",
    "scaler = MinMaxScaler()\n",
    "\n",
    "# 스케일링할 열 목록\n",
    "columns_to_scale = ['교통혼잡도', '인구수', '건물수', '공시지가' , '불법주정차','주차구획수']\n",
    "\n",
    "# 스케일링 진행\n",
    "df[columns_to_scale] = scaler.fit_transform(df[columns_to_scale])"
   ]
  },
  {
   "cell_type": "code",
   "execution_count": null,
   "metadata": {},
   "outputs": [],
   "source": [
    "df['value']=df['교통혼잡도']*0.35+df['인구수']*0.137+df['건물수']*0.191+df['공시지가']*0.136+df['불법주정차'].fillna(0)*0.185"
   ]
  },
  {
   "cell_type": "code",
   "execution_count": null,
   "metadata": {},
   "outputs": [
    {
     "name": "stdout",
     "output_type": "stream",
     "text": [
      "0.3135579009607047\n"
     ]
    }
   ],
   "source": [
    "facility_df=df[df['주차구획수'].isna()].reset_index(drop=True)\n",
    "top_criterion = np.quantile(facility_df['value'],0.75)\n",
    "print(np.quantile(facility_df['value'],0.75))\n",
    "demand_df = facility_df.query('value > @top_criterion').reset_index(drop=True)"
   ]
  },
  {
   "cell_type": "code",
   "execution_count": null,
   "metadata": {},
   "outputs": [],
   "source": [
    "f_centroid = facility_df['geometry'].centroid   # 후보입지 격자의 중심좌표\n",
    "d_centroid = demand_df['geometry'].centroid     # 수요입지 격자의 중심좌표"
   ]
  },
  {
   "cell_type": "code",
   "execution_count": null,
   "metadata": {},
   "outputs": [],
   "source": [
    "from shapely.geometry import Point\n",
    "\n",
    "# 중심좌표 및 중심좌표 주위 8개의 점을 생성하기 위한 연산 리스트\n",
    "add_list = [[0,0]]\n",
    "\n",
    "# 수요격자의 중심좌표 포함 9개 좌표 생성 (+-33m)\n",
    "def add_demand(x,y,weight):  # weight : 해당 격자의 범죄위험지수\n",
    "    temp_list=[]\n",
    "    \n",
    "    for add in add_list:\n",
    "        new_x, new_y = x+add[0] ,y+add[1]\n",
    "        temp_list.append((new_x, new_y,weight))\n",
    "    return temp_list\n",
    "\n",
    "# 후보격자의 중심좌표 포함 9개 좌표 생성 (+-33m)\n",
    "def add_facility(x,y):\n",
    "    temp_list=[]\n",
    "    \n",
    "    for add in add_list:\n",
    "        new_x, new_y = x+add[0] ,y+add[1]\n",
    "        temp_list.append((new_x, new_y))\n",
    "    return temp_list\n"
   ]
  },
  {
   "cell_type": "code",
   "execution_count": null,
   "metadata": {},
   "outputs": [],
   "source": [
    "## 수요격자 내 일정 간격의 좌표 생성\n",
    "demand_points = []\n",
    "\n",
    "for index in range(len(demand_df)): \n",
    "    weight = demand_df['value'][index]\n",
    "    y,x = d_centroid[index].coords.xy      # 수요격자의 중심좌표\n",
    "    \n",
    "    # 중심좌표 포함 9개 좌표 생성 (+-33m)\n",
    "    demand_points += add_demand(x[0],y[0],weight)            \n",
    "    "
   ]
  },
  {
   "cell_type": "code",
   "execution_count": null,
   "metadata": {},
   "outputs": [],
   "source": [
    "## 후보격자 내 일정 간격의 좌표 생성\n",
    "facility_points = []\n",
    "\n",
    "for index in range(len(facility_df)): \n",
    "    y,x = f_centroid[index].coords.xy      # 후보격자의 중심좌표\n",
    "    # 중심좌표 포함 9개 좌표 생성 (+-33m)\n",
    "    facility_points += add_facility(x[0],y[0])    \n",
    "    "
   ]
  },
  {
   "cell_type": "code",
   "execution_count": null,
   "metadata": {},
   "outputs": [
    {
     "name": "stdout",
     "output_type": "stream",
     "text": [
      "4914 546\n",
      "19638 2182\n"
     ]
    }
   ],
   "source": [
    "print(len(demand_df)*9 , len(demand_points))\n",
    "print(len(facility_df)*9 , len(facility_points))"
   ]
  },
  {
   "cell_type": "code",
   "execution_count": null,
   "metadata": {},
   "outputs": [
    {
     "name": "stdout",
     "output_type": "stream",
     "text": [
      "2521\n"
     ]
    }
   ],
   "source": [
    "grid_points = []   # 격자의 외곽 좌표 리스트\n",
    "\n",
    "# 격자의 외곽 좌표를 후보지점에 추가\n",
    "for index in range(len(facility_df)):\n",
    "    \n",
    "    polygon = facility_df['geometry'][index]\n",
    "    polygon_points = list(polygon.exterior.coords)\n",
    "    polygon_points2 = [(lat, lon) for lon, lat in polygon_points]\n",
    "    grid_points += polygon_points2\n",
    "\n",
    "unique_grid_points = list(set(grid_points))\n",
    "print(len(unique_grid_points))"
   ]
  },
  {
   "cell_type": "code",
   "execution_count": null,
   "metadata": {},
   "outputs": [],
   "source": [
    "# 최종 후보좌표  : 후보격자 내부 좌표 9곳 + 외곽 좌표 4곳 (중복 제외)\n",
    "final_facility_points = facility_points + unique_grid_points"
   ]
  },
  {
   "cell_type": "code",
   "execution_count": null,
   "metadata": {},
   "outputs": [],
   "source": [
    "exclusion_df=pd.read_csv('최종 데이터/주차장/주차장_변환_.csv')"
   ]
  },
  {
   "cell_type": "code",
   "execution_count": null,
   "metadata": {},
   "outputs": [],
   "source": [
    "exclusion_df.columns=['d', '위도', '경도', 'ㅇ', 'ㅇ', 'ㅇ']"
   ]
  },
  {
   "cell_type": "code",
   "execution_count": null,
   "metadata": {},
   "outputs": [],
   "source": [
    "exclusion_points = []\n",
    "\n",
    "for index in range(len(exclusion_df)):\n",
    "    x,y = exclusion_df['위도'][index] ,exclusion_df['경도'][index]\n",
    "    exclusion_points.append((x,y))"
   ]
  },
  {
   "cell_type": "markdown",
   "metadata": {},
   "source": [
    "# MCLP 모델링 "
   ]
  },
  {
   "cell_type": "code",
   "execution_count": null,
   "metadata": {},
   "outputs": [],
   "source": [
    "df=df.to_crs(epsg=4326)"
   ]
  },
  {
   "cell_type": "code",
   "execution_count": null,
   "metadata": {},
   "outputs": [],
   "source": [
    "from shapely.geometry import Polygon\n",
    "\n",
    "# 경도와 위도 위치 바꾸기\n",
    "def swap_lat_lon(geom):\n",
    "    if geom.geom_type == 'Polygon':\n",
    "        return Polygon([(y, x) for x, y in geom.exterior.coords])\n",
    "    elif geom.geom_type == 'MultiPolygon':\n",
    "        return MultiPolygon([Polygon([(y, x) for x, y in part.exterior.coords]) for part in geom])\n",
    "    else:\n",
    "        raise ValueError(\"지원되지 않는 지오메트리 타입입니다.\")\n",
    "\n",
    "# 적용\n",
    "df['geometry'] = df['geometry'].apply(swap_lat_lon)"
   ]
  },
  {
   "cell_type": "code",
   "execution_count": null,
   "metadata": {},
   "outputs": [],
   "source": [
    "import pulp\n",
    "from geopy.distance import geodesic\n",
    "\n",
    "final_cctv_index = []\n",
    "covered_info = []\n",
    "\n",
    "cover_radius = 0.1  # km 단위, 50m\n",
    "exclusion_radius = 0.1 # km 단위, 50m\n",
    "max_facilities = 5  # 최대 설치 가능한 CCTV 수\n",
    "\n",
    "\n",
    "# 모델 설정\n",
    "model = pulp.LpProblem(\"MCLP\", pulp.LpMaximize)\n",
    "\n",
    "# 변수\n",
    "x = pulp.LpVariable.dicts(\"x\", range(len(facility_points)), cat='Binary')  # 각 설비의 설치 여부\n",
    "y = pulp.LpVariable.dicts(\"y\", ((i, j) for i in range(len(demand_points)) for j in range(len(facility_points))), cat='Binary')  # 수요 지점 i가 설비 j에 의해 서비스되는지 여부\n",
    "\n",
    "# 목적 함수\n",
    "model += pulp.lpSum(demand_points[i][2] * y[i, j] for i, j in y)  # 가중치를 반영한 커버 최대화\n",
    "\n",
    "# 제약 조건\n",
    "# 설치할 수 있는 CCTV의 총 수를 제한\n",
    "model += pulp.lpSum(x[j] for j in range(len(facility_points))) == max_facilities\n",
    "\n",
    "# 특정 지역 반경 내의 후보 지점 제외\n",
    "for i, facility in enumerate(facility_points):\n",
    "    for j, exclusion_center in enumerate(exclusion_points):\n",
    "        if geodesic(exclusion_center, facility).km <= exclusion_radius:\n",
    "            model += x[i] == 0  # 제외 범위 내의 설비는 설치 불가\n",
    "\n",
    "for i, demand in enumerate(demand_points):\n",
    "    for j, facility in enumerate(facility_points):\n",
    "        # 수요 지점과 설비 사이의 거리가 서비스 범위 내인지 확인\n",
    "        if geodesic(demand[:2], facility).km <= cover_radius:\n",
    "            model += y[i, j] <= x[j]  # 수요 지점 i가 설비 j에 의해 서비스되려면 설비 j가 설치되어야 함\n",
    "        else:\n",
    "            model += y[i, j] == 0  # 거리가 너무 멀면 서비스 불가능\n",
    "\n",
    "# 각 수요 지점은 하나의 설비에 의해서만 서비스될 수 있음\n",
    "for i in range(len(demand_points)):\n",
    "    model += pulp.lpSum(y[i, j] for j in range(len(facility_points))) <= 1\n",
    "\n",
    "# 문제 해결\n",
    "model.solve()\n",
    "\n",
    "# 결과 출력\n",
    "print(\"Selected Facilities and their Coordinates:\")\n",
    "for j in range(len(facility_points)):\n",
    "    if pulp.value(x[j]) == 1:\n",
    "        final_cctv_index.append(j)\n",
    "        print(f\"Facility {j} is selected at coordinates {facility_points[j]}.\")\n",
    "\n",
    "print(\"Coverage and Weights:\")\n",
    "for i, j in y:\n",
    "    if pulp.value(y[i, j]) == 1:\n",
    "        covered_info.append((i,j))\n",
    "        print(f\"Demand point {i} with weight {demand_points[i][2]} is covered by facility {j}.\")"
   ]
  },
  {
   "cell_type": "code",
   "execution_count": null,
   "metadata": {},
   "outputs": [
    {
     "data": {
      "text/html": [
       "<div>\n",
       "<style scoped>\n",
       "    .dataframe tbody tr th:only-of-type {\n",
       "        vertical-align: middle;\n",
       "    }\n",
       "\n",
       "    .dataframe tbody tr th {\n",
       "        vertical-align: top;\n",
       "    }\n",
       "\n",
       "    .dataframe thead th {\n",
       "        text-align: right;\n",
       "    }\n",
       "</style>\n",
       "<table border=\"1\" class=\"dataframe\">\n",
       "  <thead>\n",
       "    <tr style=\"text-align: right;\">\n",
       "      <th></th>\n",
       "      <th>new_cctv_id</th>\n",
       "      <th>geometry</th>\n",
       "    </tr>\n",
       "  </thead>\n",
       "  <tbody>\n",
       "    <tr>\n",
       "      <th>0</th>\n",
       "      <td>0</td>\n",
       "      <td>POINT (127.08855 37.53826)</td>\n",
       "    </tr>\n",
       "    <tr>\n",
       "      <th>1</th>\n",
       "      <td>1</td>\n",
       "      <td>POINT (127.06699 37.54719)</td>\n",
       "    </tr>\n",
       "    <tr>\n",
       "      <th>2</th>\n",
       "      <td>2</td>\n",
       "      <td>POINT (127.07154 37.54360)</td>\n",
       "    </tr>\n",
       "    <tr>\n",
       "      <th>3</th>\n",
       "      <td>3</td>\n",
       "      <td>POINT (127.07378 37.54632)</td>\n",
       "    </tr>\n",
       "    <tr>\n",
       "      <th>4</th>\n",
       "      <td>4</td>\n",
       "      <td>POINT (127.06811 37.54810)</td>\n",
       "    </tr>\n",
       "    <tr>\n",
       "      <th>5</th>\n",
       "      <td>5</td>\n",
       "      <td>POINT (127.07949 37.53912)</td>\n",
       "    </tr>\n",
       "    <tr>\n",
       "      <th>6</th>\n",
       "      <td>6</td>\n",
       "      <td>POINT (127.07605 37.54632)</td>\n",
       "    </tr>\n",
       "    <tr>\n",
       "      <th>7</th>\n",
       "      <td>7</td>\n",
       "      <td>POINT (127.07496 37.53911)</td>\n",
       "    </tr>\n",
       "    <tr>\n",
       "      <th>8</th>\n",
       "      <td>8</td>\n",
       "      <td>POINT (127.06927 37.54359)</td>\n",
       "    </tr>\n",
       "    <tr>\n",
       "      <th>9</th>\n",
       "      <td>9</td>\n",
       "      <td>POINT (127.07606 37.54452)</td>\n",
       "    </tr>\n",
       "    <tr>\n",
       "      <th>10</th>\n",
       "      <td>10</td>\n",
       "      <td>POINT (127.07266 37.54451)</td>\n",
       "    </tr>\n",
       "    <tr>\n",
       "      <th>11</th>\n",
       "      <td>11</td>\n",
       "      <td>POINT (127.07041 37.54270)</td>\n",
       "    </tr>\n",
       "    <tr>\n",
       "      <th>12</th>\n",
       "      <td>12</td>\n",
       "      <td>POINT (127.06587 37.54538)</td>\n",
       "    </tr>\n",
       "    <tr>\n",
       "      <th>13</th>\n",
       "      <td>13</td>\n",
       "      <td>POINT (127.07042 37.53999)</td>\n",
       "    </tr>\n",
       "    <tr>\n",
       "      <th>14</th>\n",
       "      <td>14</td>\n",
       "      <td>POINT (127.07265 37.54721)</td>\n",
       "    </tr>\n",
       "    <tr>\n",
       "      <th>15</th>\n",
       "      <td>15</td>\n",
       "      <td>POINT (127.06589 37.54178)</td>\n",
       "    </tr>\n",
       "    <tr>\n",
       "      <th>16</th>\n",
       "      <td>16</td>\n",
       "      <td>POINT (127.06815 37.54269)</td>\n",
       "    </tr>\n",
       "    <tr>\n",
       "      <th>17</th>\n",
       "      <td>17</td>\n",
       "      <td>POINT (127.08847 37.55268)</td>\n",
       "    </tr>\n",
       "    <tr>\n",
       "      <th>18</th>\n",
       "      <td>18</td>\n",
       "      <td>POINT (127.07491 37.54722)</td>\n",
       "    </tr>\n",
       "    <tr>\n",
       "      <th>19</th>\n",
       "      <td>19</td>\n",
       "      <td>POINT (127.08733 37.55357)</td>\n",
       "    </tr>\n",
       "  </tbody>\n",
       "</table>\n",
       "</div>"
      ],
      "text/plain": [
       "    new_cctv_id                    geometry\n",
       "0             0  POINT (127.08855 37.53826)\n",
       "1             1  POINT (127.06699 37.54719)\n",
       "2             2  POINT (127.07154 37.54360)\n",
       "3             3  POINT (127.07378 37.54632)\n",
       "4             4  POINT (127.06811 37.54810)\n",
       "5             5  POINT (127.07949 37.53912)\n",
       "6             6  POINT (127.07605 37.54632)\n",
       "7             7  POINT (127.07496 37.53911)\n",
       "8             8  POINT (127.06927 37.54359)\n",
       "9             9  POINT (127.07606 37.54452)\n",
       "10           10  POINT (127.07266 37.54451)\n",
       "11           11  POINT (127.07041 37.54270)\n",
       "12           12  POINT (127.06587 37.54538)\n",
       "13           13  POINT (127.07042 37.53999)\n",
       "14           14  POINT (127.07265 37.54721)\n",
       "15           15  POINT (127.06589 37.54178)\n",
       "16           16  POINT (127.06815 37.54269)\n",
       "17           17  POINT (127.08847 37.55268)\n",
       "18           18  POINT (127.07491 37.54722)\n",
       "19           19  POINT (127.08733 37.55357)"
      ]
     },
     "metadata": {},
     "output_type": "display_data"
    }
   ],
   "source": [
    "from shapely.geometry import Point\n",
    "import geopandas as gpd\n",
    "\n",
    "index = list(range(len(final_cctv_index)))\n",
    "index_df = pd.DataFrame(index,columns=['new_cctv_id'])\n",
    "\n",
    "result =[]\n",
    "\n",
    "for index in final_cctv_index:\n",
    "    y, x = facility_points[index]\n",
    "    result.append(Point(x,y))\n",
    "\n",
    "result_df = gpd.GeoDataFrame(index_df, geometry=result)\n",
    "result_df"
   ]
  }
 ],
 "metadata": {
  "language_info": {
   "name": "python"
  }
 },
 "nbformat": 4,
 "nbformat_minor": 2
}
